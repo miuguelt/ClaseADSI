{
 "metadata": {
  "language_info": {
   "codemirror_mode": {
    "name": "ipython",
    "version": 3
   },
   "file_extension": ".py",
   "mimetype": "text/x-python",
   "name": "python",
   "nbconvert_exporter": "python",
   "pygments_lexer": "ipython3",
   "version": "3.7.6-final"
  },
  "orig_nbformat": 2,
  "kernelspec": {
   "name": "python3",
   "display_name": "Python 3",
   "language": "python"
  }
 },
 "nbformat": 4,
 "nbformat_minor": 2,
 "cells": [
  {
   "cell_type": "code",
   "execution_count": 1,
   "metadata": {},
   "outputs": [
    {
     "output_type": "stream",
     "name": "stdout",
     "text": [
      "(2, 3) pertenece al primer cuadrante\n(-3, -1) pertenece al tercer cuadrante\n(0, 0) se encuentra sobre el origen\nEl vector entre (2, 3) y (5, 5) es (3, 2)\nEl vector entre (5, 5) y (2, 3) es (-3, -2)\nLa distancia entre los puntos (2, 3) y (5, 5) es 3.605551275463989\nLa distancia entre los puntos (5, 5) y (2, 3) es 3.605551275463989\nLa distancia entre los puntos (2, 3) y (0, 0) es 3.605551275463989\nLa distancia entre los puntos (5, 5) y (0, 0) es 7.0710678118654755\nLa distancia entre los puntos (-3, -1) y (0, 0) es 3.1622776601683795\nLa base del rectángulo es 3\nLa altura del rectángulo es 2\nEl área del rectángulo es 6\n"
     ]
    }
   ],
   "source": [
    "import math\n",
    "\n",
    "class Punto:\n",
    "\n",
    "    def __init__(self, x=0, y=0):\n",
    "        self.x = x\n",
    "        self.y = y\n",
    "\n",
    "    def __str__(self):\n",
    "        return \"({}, {})\".format(self.x, self.y)\n",
    "\n",
    "    def cuadrante(self):\n",
    "        if self.x > 0 and self.y > 0:\n",
    "            print(\"{} pertenece al primer cuadrante\".format(self))\n",
    "        elif self.x < 0 and self.y > 0:\n",
    "            print(\"{} pertenece al segundo cuadrante\".format(self))\n",
    "        elif self.x < 0 and self.y < 0:\n",
    "            print(\"{} pertenece al tercer cuadrante\".format(self))\n",
    "        elif self.x > 0 and self.y < 0:\n",
    "            print(\"{} pertenece al cuarto cuadrante\".format(self))\n",
    "        elif self.x != 0 and self.y == 0:\n",
    "            print(\"{} se sitúa sobre el eje X\".format(self))\n",
    "        elif self.x == 0 and self.y != 0:\n",
    "            print(\"{} se sitúa sobre el eje Y\".format(self))\n",
    "        else:\n",
    "            print(\"{} se encuentra sobre el origen\".format(self))\n",
    "\n",
    "    def vector(self, p):\n",
    "        print(\"El vector entre {} y {} es ({}, {})\".format(\n",
    "            self, p, p.x - self.x, p.y - self.y) )\n",
    "\n",
    "    def distancia(self, p):\n",
    "        d = math.sqrt( (p.x - self.x)**2 + (p.y - self.y)**2 )\n",
    "        print(\"La distancia entre los puntos {} y {} es {}\".format(\n",
    "            self, p, d))\n",
    "\n",
    "\n",
    "class Rectangulo:\n",
    "\n",
    "    def __init__(self, pInicial=Punto(), pFinal=Punto()):\n",
    "        self.pInicial = pInicial\n",
    "        self.pFinal = pFinal\n",
    "\n",
    "        # Hago los cálculos, pero no llamo los atributos igual \n",
    "        # que los métodos porque sino podríamos sobreescribirlos\n",
    "        self.vBase = abs(self.pFinal.x - self.pInicial.x)\n",
    "        self.vAltura = abs(self.pFinal.y - self.pInicial.y)\n",
    "        self.vArea = self.vBase * self.vAltura\n",
    "\n",
    "    def base(self):\n",
    "        print(\"La base del rectángulo es {}\".format( self.vBase ) )\n",
    "\n",
    "    def altura(self):\n",
    "        print(\"La altura del rectángulo es {}\".format( self.vAltura ) )\n",
    "\n",
    "    def area(self):\n",
    "        print(\"El área del rectángulo es {}\".format( self.vArea ) )\n",
    "\n",
    "\n",
    "A = Punto(2,3)\n",
    "B = Punto(5,5)\n",
    "C = Punto(-3, -1)\n",
    "D = Punto(0,0)\n",
    "\n",
    "A.cuadrante()\n",
    "C.cuadrante()\n",
    "D.cuadrante()\n",
    "\n",
    "A.vector(B)\n",
    "B.vector(A)\n",
    "\n",
    "A.distancia(B)\n",
    "B.distancia(A)\n",
    "\n",
    "A.distancia(D)\n",
    "B.distancia(D)\n",
    "C.distancia(D)\n",
    "\n",
    "R = Rectangulo(A, B)\n",
    "R.base()\n",
    "R.altura()\n",
    "R.area()"
   ]
  },
  {
   "cell_type": "code",
   "execution_count": null,
   "metadata": {},
   "outputs": [],
   "source": []
  },
  {
   "cell_type": "code",
   "execution_count": 2,
   "metadata": {},
   "outputs": [
    {
     "output_type": "stream",
     "name": "stdout",
     "text": [
      "[2, 4, 6, 8]\n3.14\n"
     ]
    }
   ],
   "source": [
    "lista1=[2, 4, 6, 8] \n",
    "# flotantes\n",
    "lista2=[3.14, 2.4, 6.78]\n",
    "# strings\n",
    "lista3=[\"ana\",\"alma\",\"jack\"] \n",
    "# un poco de todo \n",
    "lista4=[\"jaime\", 4, 3.2] \n",
    "# imprimimos la lista completa\n",
    "print(lista1)\n",
    "# o solo un valor de ella\n",
    "print(lista2[0])"
   ]
  },
  {
   "cell_type": "code",
   "execution_count": 3,
   "metadata": {},
   "outputs": [
    {
     "output_type": "stream",
     "name": "stdout",
     "text": [
      "['jaime', 4, 3.2]\n"
     ]
    }
   ],
   "source": [
    "print(lista4)"
   ]
  },
  {
   "cell_type": "code",
   "execution_count": 4,
   "metadata": {},
   "outputs": [],
   "source": [
    "lista1=[2, 4, 6, 8,[\"hola\",3] ]"
   ]
  },
  {
   "cell_type": "code",
   "execution_count": 5,
   "metadata": {},
   "outputs": [
    {
     "output_type": "stream",
     "name": "stdout",
     "text": [
      "[2, 4, 6, 8, ['hola', 3]]\n"
     ]
    }
   ],
   "source": [
    "print(lista1)"
   ]
  },
  {
   "cell_type": "code",
   "execution_count": 7,
   "metadata": {},
   "outputs": [
    {
     "output_type": "stream",
     "name": "stdout",
     "text": [
      "hola\n"
     ]
    }
   ],
   "source": [
    "print(lista1[4][0])"
   ]
  },
  {
   "cell_type": "code",
   "execution_count": 9,
   "metadata": {},
   "outputs": [
    {
     "output_type": "stream",
     "name": "stdout",
     "text": [
      "[2, 3, 4, 5, 6]\n5\n"
     ]
    }
   ],
   "source": [
    "# declaramos una lista vacia\n",
    "lista=[3]\n",
    "\n",
    "# creamos un bucle para escribir cada elemento del lista\n",
    "for x in range(5):\n",
    "    valor=int(input(\"Ingrese un valor entero: \"))\n",
    "    lista.append(valor)\n",
    "\n",
    "\n",
    "# una vez rellenado el lista, lo imprimimos\n",
    "print(lista)\n",
    "# y aprendemos una cosa nueva, como obtener la longitud del lista\n",
    "print(len(lista))"
   ]
  },
  {
   "source": [
    "append(x) -> ya la utilizamos anteriormente para añadir un nuevo elemento\n",
    "insert(pos, x) -> inserta un elemento en la posición del lista especificada\n",
    "remove(x) -> elimina el primer elemento del lista cuyo valor es x\n",
    "pop(x) -> devuelve el elemento especificado, sino se especifica ninguno, devuelve el último elemento y lo elimina del lista.\n",
    "clear() -> elimina todos los elementos del lista\n",
    "count(x) -> cuenta el número de elementos del lista las veces indicadas por parámetro\n",
    "sort() -> ordena los elementos del lista"
   ],
   "cell_type": "markdown",
   "metadata": {}
  },
  {
   "cell_type": "code",
   "execution_count": 10,
   "metadata": {},
   "outputs": [
    {
     "output_type": "error",
     "ename": "ValueError",
     "evalue": "invalid literal for int() with base 10: ''",
     "traceback": [
      "\u001b[1;31m---------------------------------------------------------------------------\u001b[0m",
      "\u001b[1;31mValueError\u001b[0m                                Traceback (most recent call last)",
      "\u001b[1;32m<ipython-input-10-a52804c7c81a>\u001b[0m in \u001b[0;36m<module>\u001b[1;34m\u001b[0m\n\u001b[0;32m      4\u001b[0m \u001b[1;31m# creamos un bucle para escribir cada elemento del lista\u001b[0m\u001b[1;33m\u001b[0m\u001b[1;33m\u001b[0m\u001b[1;33m\u001b[0m\u001b[0m\n\u001b[0;32m      5\u001b[0m \u001b[1;32mfor\u001b[0m \u001b[0mx\u001b[0m \u001b[1;32min\u001b[0m \u001b[0mrange\u001b[0m\u001b[1;33m(\u001b[0m\u001b[1;36m5\u001b[0m\u001b[1;33m)\u001b[0m\u001b[1;33m:\u001b[0m\u001b[1;33m\u001b[0m\u001b[1;33m\u001b[0m\u001b[0m\n\u001b[1;32m----> 6\u001b[1;33m     \u001b[0mvalor\u001b[0m\u001b[1;33m=\u001b[0m\u001b[0mint\u001b[0m\u001b[1;33m(\u001b[0m\u001b[0minput\u001b[0m\u001b[1;33m(\u001b[0m\u001b[1;34m\"Ingrese un valor entero: \"\u001b[0m\u001b[1;33m)\u001b[0m\u001b[1;33m)\u001b[0m\u001b[1;33m\u001b[0m\u001b[1;33m\u001b[0m\u001b[0m\n\u001b[0m\u001b[0;32m      7\u001b[0m     \u001b[0mlista\u001b[0m\u001b[1;33m.\u001b[0m\u001b[0mappend\u001b[0m\u001b[1;33m(\u001b[0m\u001b[0mvalor\u001b[0m\u001b[1;33m)\u001b[0m\u001b[1;33m\u001b[0m\u001b[1;33m\u001b[0m\u001b[0m\n\u001b[0;32m      8\u001b[0m \u001b[1;33m\u001b[0m\u001b[0m\n",
      "\u001b[1;31mValueError\u001b[0m: invalid literal for int() with base 10: ''"
     ]
    }
   ],
   "source": [
    "# declaramos una lista vacia\n",
    "lista=[]\n",
    " \n",
    "# creamos un bucle para escribir cada elemento del lista\n",
    "for x in range(5):\n",
    "    valor=int(input(\"Ingrese un valor entero: \"))\n",
    "    lista.append(valor)\n",
    " \n",
    "# creamos una variable en la que guardamos el primer elemento\n",
    "mayor=lista[0]\n",
    " \n",
    "#utilizamos un bucle para recorrer el lista\n",
    "for x in range(1,5):\n",
    "    # comprobamos si es mayor al almacenado\n",
    "    if lista[x]>mayor:\n",
    "        mayor=lista[x]\n",
    " \n",
    "#imprimimos la lista completa\n",
    "print(lista)\n",
    " \n",
    "# imprimimos el numero mayor\n",
    "print(mayor)"
   ]
  },
  {
   "source": [
    "1. Hallar el mayor y menor en una lista de tamaño n.\n",
    "2. Hacer un programa que pida dos número y almacene las cuatro operaciones matemáticas en una lista, debe hacer una función\n",
    "3. Organizar una lista utilizando el método burbuja."
   ],
   "cell_type": "markdown",
   "metadata": {}
  },
  {
   "source": [
    "4.\n",
    "\n",
    "Realizar un programa que permita ingresar por teclado los nombres de 5 artículos y sus precios, definir para ellos las siguientes funciones.\n",
    "\n",
    "Cargar los nombres de los artículos y sus precios.\n",
    "\n",
    "Imprimir cada artículo con sus datos.\n",
    "\n",
    "Imprimir el nombre del artículo más caro.\n",
    "\n",
    "Solicitar la carga de un importe por teclado, mostrar después todos los artículos con un precio inferior al insertado.\n",
    "\n",
    "\n",
    "return [nom,precio] retornar dos listas \n",
    "nombre,precio=cargar()\n"
   ],
   "cell_type": "markdown",
   "metadata": {}
  },
  {
   "source": [
    "DICCIONARIOS"
   ],
   "cell_type": "markdown",
   "metadata": {}
  },
  {
   "cell_type": "code",
   "execution_count": 11,
   "metadata": {},
   "outputs": [
    {
     "output_type": "stream",
     "name": "stdout",
     "text": [
      "{'manzana': 3, 'platano': 5, 'fresa': 7}\n"
     ]
    }
   ],
   "source": [
    "frutas = {\"manzana\":3,\"platano\":5, \"fresa\":7}\n",
    "print(frutas)"
   ]
  },
  {
   "cell_type": "code",
   "execution_count": 12,
   "metadata": {},
   "outputs": [
    {
     "output_type": "stream",
     "name": "stdout",
     "text": [
      "3\n"
     ]
    }
   ],
   "source": [
    "print(frutas[\"manzana\"])"
   ]
  },
  {
   "cell_type": "code",
   "execution_count": 15,
   "metadata": {},
   "outputs": [
    {
     "output_type": "stream",
     "name": "stdout",
     "text": [
      "Hello [1, 'Hola', 1.3]\nchile 50000000\nsenegal 30000000\n"
     ]
    }
   ],
   "source": [
    "def mostrar(paises):\n",
    "    for key in paises:\n",
    "        print(key, paises[key])\n",
    "\n",
    "habitantes={\"Hello\":[1, \"Hola\",1.3], \"chile\":50000000, \"senegal\":30000000}\n",
    "\n",
    "mostrar(habitantes)\n"
   ]
  },
  {
   "source": [
    "5.\n",
    "Realizar un programa que permita crear un diccionario inglés / castellano. La clave es la palabra en inglés y el valor es la palabra en castellano. Crear funciones para cargar el diccionario, listar el diccionario. Crear una tercera función que solicite la carga por teclado de una palabra en inglés, mostrar después el valor en castellano si este existe.\n",
    "\n",
    "6. Realizar un programa que permita cargar un código de producto como clave en un diccionario. Guardar para esta clave el nombre del producto, el precio y el total disponible en stock. Después de ingresar un producto, preguntar si se desea cargar otro, el límite de productos lo dispondrá el usuario. Mostrar el listado de productos, una tercera para consultar un producto mediante su clave y otra para mostrar el listado de productos con stock 0.\n",
    "\n"
   ],
   "cell_type": "markdown",
   "metadata": {}
  }
 ]
}